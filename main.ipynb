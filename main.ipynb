{
 "cells": [
  {
   "cell_type": "markdown",
   "id": "68d98679-06fb-4214-a6fb-feb9421b28ec",
   "metadata": {},
   "source": [
    "# 0"
   ]
  },
  {
   "cell_type": "code",
   "execution_count": 1,
   "id": "23e7cafa-97c4-482e-b28f-3d4c47c406ed",
   "metadata": {
    "tags": []
   },
   "outputs": [
    {
     "data": {
      "text/plain": [
       "274877906944"
      ]
     },
     "execution_count": 1,
     "metadata": {},
     "output_type": "execute_result"
    }
   ],
   "source": [
    "2**38"
   ]
  },
  {
   "cell_type": "markdown",
   "id": "d2d1cfc7-2fc1-41eb-9390-234ff8c4b68c",
   "metadata": {},
   "source": [
    "# 1"
   ]
  },
  {
   "cell_type": "code",
   "execution_count": 2,
   "id": "35b21e7a-ea87-49f4-bfaa-080f3154f763",
   "metadata": {
    "tags": []
   },
   "outputs": [],
   "source": [
    "import requests\n",
    "from bs4 import BeautifulSoup"
   ]
  },
  {
   "cell_type": "code",
   "execution_count": 3,
   "id": "b9b7f8ec-9214-41cd-b8c0-fcad2009b8ea",
   "metadata": {
    "tags": []
   },
   "outputs": [],
   "source": [
    "def caesar(text: str, key) -> str:\n",
    "    decrypted: List[str|int] = []\n",
    "    for char in text:\n",
    "        if char.isalpha():\n",
    "            ord_char = ord(char) + key\n",
    "            if ord_char > 122:\n",
    "                ord_char -= 26\n",
    "            decrypted.append(chr(ord_char))\n",
    "            continue\n",
    "        decrypted.append(char)\n",
    "    return ''.join(decrypted)"
   ]
  },
  {
   "cell_type": "code",
   "execution_count": 4,
   "id": "5e887d09-84cd-4f77-89f3-db4f197e16b1",
   "metadata": {
    "tags": []
   },
   "outputs": [],
   "source": [
    "html1 = BeautifulSoup(requests.get('http://www.pythonchallenge.com/pc/def/map.html').text, 'html.parser')\n",
    "text1 = html1.find('tr')"
   ]
  },
  {
   "cell_type": "code",
   "execution_count": 5,
   "id": "c46e22fb-6e42-4a4c-9047-f31b1580ac1d",
   "metadata": {
    "tags": []
   },
   "outputs": [
    {
     "data": {
      "text/plain": [
       "\"i hope you didnt translate it by hand. thats what computers are for. doing it in by hand is inefficient and that's why this text is so long. using string.maketrans() is recommended. now apply on the url.\""
      ]
     },
     "execution_count": 5,
     "metadata": {},
     "output_type": "execute_result"
    }
   ],
   "source": [
    "caesar(text1.text.split('\\n\\n')[1].strip('\\n'),2)"
   ]
  },
  {
   "cell_type": "code",
   "execution_count": 6,
   "id": "e8e110f8-a744-4e56-9119-25c52c721cb4",
   "metadata": {
    "tags": []
   },
   "outputs": [
    {
     "data": {
      "text/plain": [
       "'ocr'"
      ]
     },
     "execution_count": 6,
     "metadata": {},
     "output_type": "execute_result"
    }
   ],
   "source": [
    "caesar(\"map\", 2)"
   ]
  },
  {
   "cell_type": "markdown",
   "id": "f307748e-8bdf-4745-af1d-5d066cb9afee",
   "metadata": {
    "tags": []
   },
   "source": [
    "# 2"
   ]
  },
  {
   "cell_type": "code",
   "execution_count": 7,
   "id": "f139b720-a2cc-4da7-a918-2602748613e5",
   "metadata": {},
   "outputs": [],
   "source": [
    "import re"
   ]
  },
  {
   "cell_type": "code",
   "execution_count": 9,
   "id": "3301735f-f5e4-49ad-ad87-ba499b143840",
   "metadata": {
    "tags": []
   },
   "outputs": [],
   "source": [
    "html2 = requests.get('http://www.pythonchallenge.com/pc/def/ocr.html').text\n",
    "text2 = re.findall(r'(?<=<!--).*?(?=-->)', html2, flags=re.S)[1]"
   ]
  },
  {
   "cell_type": "code",
   "execution_count": 10,
   "id": "eaa2868a-4c80-4fa1-bfbe-e339b27059fc",
   "metadata": {
    "tags": []
   },
   "outputs": [
    {
     "data": {
      "text/plain": [
       "'equality'"
      ]
     },
     "execution_count": 10,
     "metadata": {},
     "output_type": "execute_result"
    }
   ],
   "source": [
    "chars2: str = []\n",
    "count2: int = []\n",
    "for char in text2:\n",
    "    if not char in chars2:\n",
    "        chars2.append(char)\n",
    "        count2.append(0)\n",
    "    count2[chars2.index(char)] += 1\n",
    "rares = ''.join([char for char, n in zip(chars2, count2) if n == 1])\n",
    "rares"
   ]
  },
  {
   "cell_type": "markdown",
   "id": "229427ee-d3fb-4bf5-9af2-e7942e6957d4",
   "metadata": {},
   "source": [
    "# 3"
   ]
  },
  {
   "cell_type": "code",
   "execution_count": 11,
   "id": "cc027aa6-6961-4fd8-8fb4-ed4d64b1616b",
   "metadata": {
    "tags": []
   },
   "outputs": [],
   "source": [
    "html3 = requests.get('http://www.pythonchallenge.com/pc/def/equality.html').text\n",
    "text3 = re.search(r'(?<=<!--).*?(?=-->)', html3, flags=re.S)[0]"
   ]
  },
  {
   "cell_type": "code",
   "execution_count": 12,
   "id": "fab9d9cb-eb93-46c5-9b67-52d34e3f9eb1",
   "metadata": {
    "tags": []
   },
   "outputs": [
    {
     "data": {
      "text/plain": [
       "'linkedlist'"
      ]
     },
     "execution_count": 12,
     "metadata": {},
     "output_type": "execute_result"
    }
   ],
   "source": [
    "tinies = ''\n",
    "for match in re.findall(r'[a-z][A-Z]{3}[a-z][A-Z]{3}[a-z]', text3):\n",
    "    tinies += match[4]\n",
    "tinies"
   ]
  },
  {
   "cell_type": "markdown",
   "id": "f6a8b109-d35a-4252-9511-1a0024b491e6",
   "metadata": {
    "tags": []
   },
   "source": [
    "# 4"
   ]
  },
  {
   "cell_type": "code",
   "execution_count": 13,
   "id": "8d48d79f-5c15-4964-bf0e-d357de33b5fc",
   "metadata": {
    "tags": []
   },
   "outputs": [
    {
     "data": {
      "text/plain": [
       "66831"
      ]
     },
     "execution_count": 13,
     "metadata": {},
     "output_type": "execute_result"
    }
   ],
   "source": [
    "linked_list = [12345]\n",
    "b = False\n",
    "while True:\n",
    "    html_linked_list = requests.get(f'http://www.pythonchallenge.com/pc/def/linkedlist.php?nothing={linked_list[-1]}').text\n",
    "    match = re.search(r'(?<=and the next nothing is )\\d+', html_linked_list)\n",
    "    if not match:\n",
    "        if b:\n",
    "            break\n",
    "        match = [int(linked_list[-1])/2]\n",
    "        b = True\n",
    "    linked_list.append(int(match[0]))\n",
    "linked_list[-1]"
   ]
  },
  {
   "cell_type": "markdown",
   "id": "0a3e708a-cbe4-4c5e-94b9-d55793b76b8c",
   "metadata": {},
   "source": [
    "# 5"
   ]
  },
  {
   "cell_type": "code",
   "execution_count": 15,
   "id": "b54fad92-f481-40e5-88fd-75949e492aa7",
   "metadata": {
    "tags": []
   },
   "outputs": [],
   "source": [
    "import pickle"
   ]
  },
  {
   "cell_type": "code",
   "execution_count": 62,
   "id": "5e0e4d23-cbe3-4adc-ad7b-6d77f912682f",
   "metadata": {
    "tags": []
   },
   "outputs": [
    {
     "data": {
      "text/plain": [
       "['                                                                                               ',\n",
       " '              #####                                                                      ##### ',\n",
       " '               ####                                                                       #### ',\n",
       " '               ####                                                                       #### ',\n",
       " '               ####                                                                       #### ',\n",
       " '               ####                                                                       #### ',\n",
       " '               ####                                                                       #### ',\n",
       " '               ####                                                                       #### ',\n",
       " '               ####                                                                       #### ',\n",
       " '      ###      ####   ###         ###       #####   ###    #####   ###          ###       #### ',\n",
       " '   ###   ##    #### #######     ##  ###      #### #######   #### #######     ###  ###     #### ',\n",
       " '  ###     ###  #####    ####   ###   ####    #####    ####  #####    ####   ###     ###   #### ',\n",
       " ' ###           ####     ####   ###    ###    ####     ####  ####     ####  ###      ####  #### ',\n",
       " ' ###           ####     ####          ###    ####     ####  ####     ####  ###       ###  #### ',\n",
       " '####           ####     ####     ##   ###    ####     ####  ####     #### ####       ###  #### ',\n",
       " '####           ####     ####   ##########    ####     ####  ####     #### ##############  #### ',\n",
       " '####           ####     ####  ###    ####    ####     ####  ####     #### ####            #### ',\n",
       " '####           ####     #### ####     ###    ####     ####  ####     #### ####            #### ',\n",
       " ' ###           ####     #### ####     ###    ####     ####  ####     ####  ###            #### ',\n",
       " '  ###      ##  ####     ####  ###    ####    ####     ####  ####     ####   ###      ##   #### ',\n",
       " '   ###    ##   ####     ####   ###########   ####     ####  ####     ####    ###    ##    #### ',\n",
       " '      ###     ######    #####    ##    #### ######    ###########    #####      ###      ######',\n",
       " '                                                                                               ']"
      ]
     },
     "execution_count": 62,
     "metadata": {},
     "output_type": "execute_result"
    }
   ],
   "source": [
    "html5 = BeautifulSoup(requests.get('http://www.pythonchallenge.com/pc/def/banner.p').text, 'html.parser')\n",
    "deserialized = pickle.loads(html5.encode('utf-8'))\n",
    "banner = []\n",
    "for row in deserialized:\n",
    "    n_string = ''\n",
    "    for item in row:\n",
    "        n_string += item[1] * item[0]\n",
    "    banner.append(n_string)\n",
    "banner"
   ]
  },
  {
   "cell_type": "markdown",
   "id": "cf680828-19a9-4b10-98e3-267f610a20ed",
   "metadata": {},
   "source": [
    "# 6"
   ]
  },
  {
   "cell_type": "code",
   "execution_count": null,
   "id": "832aa368-5219-4413-adfb-c196091f736d",
   "metadata": {},
   "outputs": [],
   "source": []
  }
 ],
 "metadata": {
  "kernelspec": {
   "display_name": "Python 3 (ipykernel)",
   "language": "python",
   "name": "python3"
  },
  "language_info": {
   "codemirror_mode": {
    "name": "ipython",
    "version": 3
   },
   "file_extension": ".py",
   "mimetype": "text/x-python",
   "name": "python",
   "nbconvert_exporter": "python",
   "pygments_lexer": "ipython3",
   "version": "3.10.10"
  }
 },
 "nbformat": 4,
 "nbformat_minor": 5
}
